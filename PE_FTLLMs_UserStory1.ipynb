{
 "cells": [
  {
   "cell_type": "code",
   "execution_count": 9,
   "metadata": {
    "vscode": {
     "languageId": "shellscript"
    }
   },
   "outputs": [
    {
     "name": "stderr",
     "output_type": "stream",
     "text": [
      "huggingface/tokenizers: The current process just got forked, after parallelism has already been used. Disabling parallelism to avoid deadlocks...\n",
      "To disable this warning, you can either:\n",
      "\t- Avoid using `tokenizers` before the fork if possible\n",
      "\t- Explicitly set the environment variable TOKENIZERS_PARALLELISM=(true | false)\n"
     ]
    },
    {
     "name": "stdout",
     "output_type": "stream",
     "text": [
      "Requirement already satisfied: transformers in /Users/albertwelong/cognizant_genai/.venv/lib/python3.9/site-packages (4.49.0)\n",
      "Requirement already satisfied: datasets in /Users/albertwelong/cognizant_genai/.venv/lib/python3.9/site-packages (3.3.2)\n",
      "Requirement already satisfied: torch in /Users/albertwelong/cognizant_genai/.venv/lib/python3.9/site-packages (2.2.2)\n",
      "Requirement already satisfied: gradio in /Users/albertwelong/cognizant_genai/.venv/lib/python3.9/site-packages (4.44.1)\n",
      "Requirement already satisfied: sentence-transformers in /Users/albertwelong/cognizant_genai/.venv/lib/python3.9/site-packages (3.4.1)\n",
      "Requirement already satisfied: filelock in /Users/albertwelong/cognizant_genai/.venv/lib/python3.9/site-packages (from transformers) (3.17.0)\n",
      "Requirement already satisfied: huggingface-hub<1.0,>=0.26.0 in /Users/albertwelong/cognizant_genai/.venv/lib/python3.9/site-packages (from transformers) (0.29.1)\n",
      "Requirement already satisfied: numpy>=1.17 in /Users/albertwelong/cognizant_genai/.venv/lib/python3.9/site-packages (from transformers) (1.26.4)\n",
      "Requirement already satisfied: packaging>=20.0 in /Users/albertwelong/cognizant_genai/.venv/lib/python3.9/site-packages (from transformers) (24.2)\n",
      "Requirement already satisfied: pyyaml>=5.1 in /Users/albertwelong/cognizant_genai/.venv/lib/python3.9/site-packages (from transformers) (6.0.2)\n",
      "Requirement already satisfied: regex!=2019.12.17 in /Users/albertwelong/cognizant_genai/.venv/lib/python3.9/site-packages (from transformers) (2024.11.6)\n",
      "Requirement already satisfied: requests in /Users/albertwelong/cognizant_genai/.venv/lib/python3.9/site-packages (from transformers) (2.32.3)\n",
      "Requirement already satisfied: tokenizers<0.22,>=0.21 in /Users/albertwelong/cognizant_genai/.venv/lib/python3.9/site-packages (from transformers) (0.21.0)\n",
      "Requirement already satisfied: safetensors>=0.4.1 in /Users/albertwelong/cognizant_genai/.venv/lib/python3.9/site-packages (from transformers) (0.5.2)\n",
      "Requirement already satisfied: tqdm>=4.27 in /Users/albertwelong/cognizant_genai/.venv/lib/python3.9/site-packages (from transformers) (4.67.1)\n",
      "Requirement already satisfied: pyarrow>=15.0.0 in /Users/albertwelong/cognizant_genai/.venv/lib/python3.9/site-packages (from datasets) (19.0.1)\n",
      "Requirement already satisfied: dill<0.3.9,>=0.3.0 in /Users/albertwelong/cognizant_genai/.venv/lib/python3.9/site-packages (from datasets) (0.3.8)\n",
      "Requirement already satisfied: pandas in /Users/albertwelong/cognizant_genai/.venv/lib/python3.9/site-packages (from datasets) (2.2.3)\n",
      "Requirement already satisfied: xxhash in /Users/albertwelong/cognizant_genai/.venv/lib/python3.9/site-packages (from datasets) (3.5.0)\n",
      "Requirement already satisfied: multiprocess<0.70.17 in /Users/albertwelong/cognizant_genai/.venv/lib/python3.9/site-packages (from datasets) (0.70.16)\n",
      "Requirement already satisfied: fsspec<=2024.12.0,>=2023.1.0 in /Users/albertwelong/cognizant_genai/.venv/lib/python3.9/site-packages (from fsspec[http]<=2024.12.0,>=2023.1.0->datasets) (2024.12.0)\n",
      "Requirement already satisfied: aiohttp in /Users/albertwelong/cognizant_genai/.venv/lib/python3.9/site-packages (from datasets) (3.11.12)\n",
      "Requirement already satisfied: typing-extensions>=4.8.0 in /Users/albertwelong/cognizant_genai/.venv/lib/python3.9/site-packages (from torch) (4.12.2)\n",
      "Requirement already satisfied: sympy in /Users/albertwelong/cognizant_genai/.venv/lib/python3.9/site-packages (from torch) (1.13.3)\n",
      "Requirement already satisfied: networkx in /Users/albertwelong/cognizant_genai/.venv/lib/python3.9/site-packages (from torch) (3.2.1)\n",
      "Requirement already satisfied: jinja2 in /Users/albertwelong/cognizant_genai/.venv/lib/python3.9/site-packages (from torch) (3.1.5)\n",
      "Requirement already satisfied: aiofiles<24.0,>=22.0 in /Users/albertwelong/cognizant_genai/.venv/lib/python3.9/site-packages (from gradio) (23.2.1)\n",
      "Requirement already satisfied: anyio<5.0,>=3.0 in /Users/albertwelong/cognizant_genai/.venv/lib/python3.9/site-packages (from gradio) (4.8.0)\n",
      "Requirement already satisfied: fastapi<1.0 in /Users/albertwelong/cognizant_genai/.venv/lib/python3.9/site-packages (from gradio) (0.115.11)\n",
      "Requirement already satisfied: ffmpy in /Users/albertwelong/cognizant_genai/.venv/lib/python3.9/site-packages (from gradio) (0.5.0)\n",
      "Requirement already satisfied: gradio-client==1.3.0 in /Users/albertwelong/cognizant_genai/.venv/lib/python3.9/site-packages (from gradio) (1.3.0)\n",
      "Requirement already satisfied: httpx>=0.24.1 in /Users/albertwelong/cognizant_genai/.venv/lib/python3.9/site-packages (from gradio) (0.28.1)\n",
      "Requirement already satisfied: importlib-resources<7.0,>=1.3 in /Users/albertwelong/cognizant_genai/.venv/lib/python3.9/site-packages (from gradio) (6.5.2)\n",
      "Requirement already satisfied: markupsafe~=2.0 in /Users/albertwelong/cognizant_genai/.venv/lib/python3.9/site-packages (from gradio) (2.1.5)\n",
      "Requirement already satisfied: matplotlib~=3.0 in /Users/albertwelong/cognizant_genai/.venv/lib/python3.9/site-packages (from gradio) (3.8.4)\n",
      "Requirement already satisfied: orjson~=3.0 in /Users/albertwelong/cognizant_genai/.venv/lib/python3.9/site-packages (from gradio) (3.10.15)\n",
      "Requirement already satisfied: pillow<11.0,>=8.0 in /Users/albertwelong/cognizant_genai/.venv/lib/python3.9/site-packages (from gradio) (10.4.0)\n",
      "Requirement already satisfied: pydantic>=2.0 in /Users/albertwelong/cognizant_genai/.venv/lib/python3.9/site-packages (from gradio) (2.10.6)\n",
      "Requirement already satisfied: pydub in /Users/albertwelong/cognizant_genai/.venv/lib/python3.9/site-packages (from gradio) (0.25.1)\n",
      "Requirement already satisfied: python-multipart>=0.0.9 in /Users/albertwelong/cognizant_genai/.venv/lib/python3.9/site-packages (from gradio) (0.0.20)\n",
      "Requirement already satisfied: ruff>=0.2.2 in /Users/albertwelong/cognizant_genai/.venv/lib/python3.9/site-packages (from gradio) (0.9.9)\n",
      "Requirement already satisfied: semantic-version~=2.0 in /Users/albertwelong/cognizant_genai/.venv/lib/python3.9/site-packages (from gradio) (2.10.0)\n",
      "Requirement already satisfied: tomlkit==0.12.0 in /Users/albertwelong/cognizant_genai/.venv/lib/python3.9/site-packages (from gradio) (0.12.0)\n",
      "Requirement already satisfied: typer<1.0,>=0.12 in /Users/albertwelong/cognizant_genai/.venv/lib/python3.9/site-packages (from gradio) (0.15.2)\n",
      "Requirement already satisfied: urllib3~=2.0 in /Users/albertwelong/cognizant_genai/.venv/lib/python3.9/site-packages (from gradio) (2.3.0)\n",
      "Requirement already satisfied: uvicorn>=0.14.0 in /Users/albertwelong/cognizant_genai/.venv/lib/python3.9/site-packages (from gradio) (0.34.0)\n",
      "Requirement already satisfied: websockets<13.0,>=10.0 in /Users/albertwelong/cognizant_genai/.venv/lib/python3.9/site-packages (from gradio-client==1.3.0->gradio) (12.0)\n",
      "Requirement already satisfied: scikit-learn in /Users/albertwelong/cognizant_genai/.venv/lib/python3.9/site-packages (from sentence-transformers) (1.6.1)\n",
      "Requirement already satisfied: scipy in /Users/albertwelong/cognizant_genai/.venv/lib/python3.9/site-packages (from sentence-transformers) (1.13.1)\n",
      "Requirement already satisfied: exceptiongroup>=1.0.2 in /Users/albertwelong/cognizant_genai/.venv/lib/python3.9/site-packages (from anyio<5.0,>=3.0->gradio) (1.2.2)\n",
      "Requirement already satisfied: idna>=2.8 in /Users/albertwelong/cognizant_genai/.venv/lib/python3.9/site-packages (from anyio<5.0,>=3.0->gradio) (3.10)\n",
      "Requirement already satisfied: sniffio>=1.1 in /Users/albertwelong/cognizant_genai/.venv/lib/python3.9/site-packages (from anyio<5.0,>=3.0->gradio) (1.3.1)\n",
      "Requirement already satisfied: starlette<0.47.0,>=0.40.0 in /Users/albertwelong/cognizant_genai/.venv/lib/python3.9/site-packages (from fastapi<1.0->gradio) (0.46.0)\n",
      "Requirement already satisfied: aiohappyeyeballs>=2.3.0 in /Users/albertwelong/cognizant_genai/.venv/lib/python3.9/site-packages (from aiohttp->datasets) (2.4.6)\n",
      "Requirement already satisfied: aiosignal>=1.1.2 in /Users/albertwelong/cognizant_genai/.venv/lib/python3.9/site-packages (from aiohttp->datasets) (1.3.2)\n",
      "Requirement already satisfied: async-timeout<6.0,>=4.0 in /Users/albertwelong/cognizant_genai/.venv/lib/python3.9/site-packages (from aiohttp->datasets) (5.0.1)\n",
      "Requirement already satisfied: attrs>=17.3.0 in /Users/albertwelong/cognizant_genai/.venv/lib/python3.9/site-packages (from aiohttp->datasets) (25.1.0)\n",
      "Requirement already satisfied: frozenlist>=1.1.1 in /Users/albertwelong/cognizant_genai/.venv/lib/python3.9/site-packages (from aiohttp->datasets) (1.5.0)\n",
      "Requirement already satisfied: multidict<7.0,>=4.5 in /Users/albertwelong/cognizant_genai/.venv/lib/python3.9/site-packages (from aiohttp->datasets) (6.1.0)\n",
      "Requirement already satisfied: propcache>=0.2.0 in /Users/albertwelong/cognizant_genai/.venv/lib/python3.9/site-packages (from aiohttp->datasets) (0.3.0)\n",
      "Requirement already satisfied: yarl<2.0,>=1.17.0 in /Users/albertwelong/cognizant_genai/.venv/lib/python3.9/site-packages (from aiohttp->datasets) (1.18.3)\n",
      "Requirement already satisfied: certifi in /Users/albertwelong/cognizant_genai/.venv/lib/python3.9/site-packages (from httpx>=0.24.1->gradio) (2025.1.31)\n",
      "Requirement already satisfied: httpcore==1.* in /Users/albertwelong/cognizant_genai/.venv/lib/python3.9/site-packages (from httpx>=0.24.1->gradio) (1.0.7)\n",
      "Requirement already satisfied: h11<0.15,>=0.13 in /Users/albertwelong/cognizant_genai/.venv/lib/python3.9/site-packages (from httpcore==1.*->httpx>=0.24.1->gradio) (0.14.0)\n",
      "Requirement already satisfied: zipp>=3.1.0 in /Users/albertwelong/cognizant_genai/.venv/lib/python3.9/site-packages (from importlib-resources<7.0,>=1.3->gradio) (3.21.0)\n",
      "Requirement already satisfied: contourpy>=1.0.1 in /Users/albertwelong/cognizant_genai/.venv/lib/python3.9/site-packages (from matplotlib~=3.0->gradio) (1.2.1)\n",
      "Requirement already satisfied: cycler>=0.10 in /Users/albertwelong/cognizant_genai/.venv/lib/python3.9/site-packages (from matplotlib~=3.0->gradio) (0.12.1)\n",
      "Requirement already satisfied: fonttools>=4.22.0 in /Users/albertwelong/cognizant_genai/.venv/lib/python3.9/site-packages (from matplotlib~=3.0->gradio) (4.56.0)\n",
      "Requirement already satisfied: kiwisolver>=1.3.1 in /Users/albertwelong/cognizant_genai/.venv/lib/python3.9/site-packages (from matplotlib~=3.0->gradio) (1.4.7)\n",
      "Requirement already satisfied: pyparsing>=2.3.1 in /Users/albertwelong/cognizant_genai/.venv/lib/python3.9/site-packages (from matplotlib~=3.0->gradio) (3.2.1)\n",
      "Requirement already satisfied: python-dateutil>=2.7 in /Users/albertwelong/cognizant_genai/.venv/lib/python3.9/site-packages (from matplotlib~=3.0->gradio) (2.9.0.post0)\n",
      "Requirement already satisfied: pytz>=2020.1 in /Users/albertwelong/cognizant_genai/.venv/lib/python3.9/site-packages (from pandas->datasets) (2025.1)\n",
      "Requirement already satisfied: tzdata>=2022.7 in /Users/albertwelong/cognizant_genai/.venv/lib/python3.9/site-packages (from pandas->datasets) (2025.1)\n",
      "Requirement already satisfied: annotated-types>=0.6.0 in /Users/albertwelong/cognizant_genai/.venv/lib/python3.9/site-packages (from pydantic>=2.0->gradio) (0.7.0)\n",
      "Requirement already satisfied: pydantic-core==2.27.2 in /Users/albertwelong/cognizant_genai/.venv/lib/python3.9/site-packages (from pydantic>=2.0->gradio) (2.27.2)\n",
      "Requirement already satisfied: charset-normalizer<4,>=2 in /Users/albertwelong/cognizant_genai/.venv/lib/python3.9/site-packages (from requests->transformers) (3.4.1)\n",
      "Requirement already satisfied: click>=8.0.0 in /Users/albertwelong/cognizant_genai/.venv/lib/python3.9/site-packages (from typer<1.0,>=0.12->gradio) (8.1.8)\n",
      "Requirement already satisfied: shellingham>=1.3.0 in /Users/albertwelong/cognizant_genai/.venv/lib/python3.9/site-packages (from typer<1.0,>=0.12->gradio) (1.5.4)\n",
      "Requirement already satisfied: rich>=10.11.0 in /Users/albertwelong/cognizant_genai/.venv/lib/python3.9/site-packages (from typer<1.0,>=0.12->gradio) (13.9.4)\n",
      "Requirement already satisfied: joblib>=1.2.0 in /Users/albertwelong/cognizant_genai/.venv/lib/python3.9/site-packages (from scikit-learn->sentence-transformers) (1.4.2)\n",
      "Requirement already satisfied: threadpoolctl>=3.1.0 in /Users/albertwelong/cognizant_genai/.venv/lib/python3.9/site-packages (from scikit-learn->sentence-transformers) (3.5.0)\n",
      "Requirement already satisfied: mpmath<1.4,>=1.1.0 in /Users/albertwelong/cognizant_genai/.venv/lib/python3.9/site-packages (from sympy->torch) (1.3.0)\n",
      "Requirement already satisfied: six>=1.5 in /Users/albertwelong/cognizant_genai/.venv/lib/python3.9/site-packages (from python-dateutil>=2.7->matplotlib~=3.0->gradio) (1.17.0)\n",
      "Requirement already satisfied: markdown-it-py>=2.2.0 in /Users/albertwelong/cognizant_genai/.venv/lib/python3.9/site-packages (from rich>=10.11.0->typer<1.0,>=0.12->gradio) (3.0.0)\n",
      "Requirement already satisfied: pygments<3.0.0,>=2.13.0 in /Users/albertwelong/cognizant_genai/.venv/lib/python3.9/site-packages (from rich>=10.11.0->typer<1.0,>=0.12->gradio) (2.19.1)\n",
      "Requirement already satisfied: mdurl~=0.1 in /Users/albertwelong/cognizant_genai/.venv/lib/python3.9/site-packages (from markdown-it-py>=2.2.0->rich>=10.11.0->typer<1.0,>=0.12->gradio) (0.1.2)\n",
      "Note: you may need to restart the kernel to use updated packages.\n"
     ]
    }
   ],
   "source": [
    "%pip install transformers datasets torch gradio sentence-transformers"
   ]
  },
  {
   "cell_type": "code",
   "execution_count": 2,
   "metadata": {
    "vscode": {
     "languageId": "shellscript"
    }
   },
   "outputs": [
    {
     "name": "stderr",
     "output_type": "stream",
     "text": [
      "/Users/albertwelong/cognizant_genai/.venv/lib/python3.9/site-packages/urllib3/__init__.py:35: NotOpenSSLWarning: urllib3 v2 only supports OpenSSL 1.1.1+, currently the 'ssl' module is compiled with 'LibreSSL 2.8.3'. See: https://github.com/urllib3/urllib3/issues/3020\n",
      "  warnings.warn(\n",
      "/Users/albertwelong/cognizant_genai/.venv/lib/python3.9/site-packages/tqdm/auto.py:21: TqdmWarning: IProgress not found. Please update jupyter and ipywidgets. See https://ipywidgets.readthedocs.io/en/stable/user_install.html\n",
      "  from .autonotebook import tqdm as notebook_tqdm\n",
      "2025-03-08 17:41:24.044682: I tensorflow/core/platform/cpu_feature_guard.cc:210] This TensorFlow binary is optimized to use available CPU instructions in performance-critical operations.\n",
      "To enable the following instructions: AVX2 FMA, in other operations, rebuild TensorFlow with the appropriate compiler flags.\n"
     ]
    }
   ],
   "source": [
    "from transformers import pipeline\n"
   ]
  },
  {
   "cell_type": "code",
   "execution_count": 4,
   "metadata": {
    "vscode": {
     "languageId": "shellscript"
    }
   },
   "outputs": [
    {
     "name": "stderr",
     "output_type": "stream",
     "text": [
      "Loading checkpoint shards: 100%|██████████| 2/2 [04:42<00:00, 141.25s/it]\n",
      "Device set to use cpu\n"
     ]
    }
   ],
   "source": [
    "# Use a pipeline as a high-level helper\n",
    "pipe = pipeline(\"text-generation\", model=\"mistralai/Mistral-7B-v0.1\")\n",
    "\n"
   ]
  },
  {
   "cell_type": "code",
   "execution_count": 10,
   "metadata": {},
   "outputs": [
    {
     "name": "stdout",
     "output_type": "stream",
     "text": [
      "Yes, we offer discounts through seasonal promotions and occasional sales. Subscribe to our newsletter for updates.\n",
      "We are open from 9 AM to 6 PM, Monday through Friday.\n",
      "Our refund policy allows returns within 30 days of purchase with proof of purchase.\n",
      "Our refund policy allows returns within 30 days of purchase with proof of purchase.\n",
      "You can track your order by visiting the 'Order Tracking' section on our website, using your order number.\n",
      "Yes, we offer discounts through seasonal promotions and occasional sales. Subscribe to our newsletter for updates.\n",
      "I'm not sure about that, but I can help with FAQs! Ask me about orders, refunds, or other support.\n",
      "I'm not sure about that, but I can help with FAQs! Ask me about orders, refunds, or other support.\n"
     ]
    }
   ],
   "source": [
    "import pandas as pd\n",
    "from sentence_transformers import SentenceTransformer, util\n",
    "\n",
    "# Load the FAQ dataset\n",
    "faq_data = pd.read_csv(\"faq_dataset.csv\")\n",
    "\n",
    "# Extract questions, answers, and categories\n",
    "faq_questions = faq_data['question'].tolist()\n",
    "faq_answers = faq_data['answer'].tolist()\n",
    "# faq_categories = faq_data['category'].tolist()\n",
    "\n",
    "# Load a pre-trained BERT model\n",
    "model = SentenceTransformer('all-MiniLM-L6-v2')\n",
    "\n",
    "# Compute embeddings for FAQ questions\n",
    "faq_embeddings = model.encode(faq_questions, convert_to_tensor=True)\n",
    "\n",
    "def get_faq_answer(user_input, threshold=0.5):  # Set a similarity threshold\n",
    "    input_embedding = model.encode(user_input, convert_to_tensor=True)\n",
    "    similarities = util.pytorch_cos_sim(input_embedding, faq_embeddings)\n",
    "    \n",
    "    # Find the most similar question\n",
    "    best_match_idx = similarities.argmax()\n",
    "    best_match_score = similarities[0][best_match_idx].item()\n",
    "\n",
    "    # If similarity score is too low, return a general response\n",
    "    if best_match_score < threshold:\n",
    "        return \"I'm not sure about that, but I can help with FAQs! Ask me about orders, refunds, or other support.\"\n",
    "        # response = pipe(user_input, max_length=200, num_return_sequences=1, temperature=0.7, do_sample=True)\n",
    "        # return response[0][\"generated_text\"]\n",
    "\n",
    "    return faq_answers[best_match_idx]\n",
    "\n",
    "# Example:\n",
    "print(get_faq_answer(\"Do you have any promotions available?\"))\n",
    "print(get_faq_answer(\"What are your business hours?\"))  # Expected: FAQ response\n",
    "print(get_faq_answer(\"Tell me about your refund policy\"))  # Expected: FAQ response\n",
    "print(get_faq_answer(\"What is your return policy?\"))  # Expected: FAQ response\n",
    "print(get_faq_answer(\"How can I track my order?\"))  # Expected: FAQ response\n",
    "print(get_faq_answer(\"Do you offer discounts?\"))  # Expected: FAQ response\n",
    "print(get_faq_answer(\"Name a city in France\"))  # Expected: General model response\n",
    "print(get_faq_answer(\"Tell me a joke.\"))  # Expected: General model response\n",
    "\n",
    "\n"
   ]
  },
  {
   "cell_type": "code",
   "execution_count": 11,
   "metadata": {},
   "outputs": [],
   "source": [
    "model.save(\"./faq_model\")"
   ]
  },
  {
   "cell_type": "code",
   "execution_count": 12,
   "metadata": {},
   "outputs": [],
   "source": [
    "import torch\n",
    "\n",
    "# Save embeddings\n",
    "torch.save(faq_embeddings, \"faq_embeddings.pt\")\n",
    "\n",
    "# Save FAQ data as a CSV or JSON (to load it later)\n",
    "faq_data.to_csv(\"faq_data.csv\", index=False)\n"
   ]
  },
  {
   "cell_type": "markdown",
   "metadata": {},
   "source": [
    "# Short Evaluation for Future Improvements\n",
    "\n",
    "## Due to the interest of computing capability and time, I decided to tackle User Story 1 with a simpler and more direct approach.\n",
    "\n",
    "1. I generated my own FAQ dataset that can answer basic FAQs.\n",
    "2. The response generated follows the FAQ dataset that has been made\n",
    "3. The model is fine-tuned to find keywords that can predict what the user input look for, and then find the response on the FAQ answer column.\n",
    "4. For future iteration, it is in the best interest to also train a general pre-trained model to answer non-relevant questions like a smart chatbot assistant. But for the interest of this project which focuses on creating a personalized chatbot for businesses, non-relevant questions will be responded by a predetermined response saying \"I'm not sure about that, but I can help with FAQs! Ask me about orders, refunds, or other support.\""
   ]
  }
 ],
 "metadata": {
  "kernelspec": {
   "display_name": ".venv",
   "language": "python",
   "name": "python3"
  },
  "language_info": {
   "codemirror_mode": {
    "name": "ipython",
    "version": 3
   },
   "file_extension": ".py",
   "mimetype": "text/x-python",
   "name": "python",
   "nbconvert_exporter": "python",
   "pygments_lexer": "ipython3",
   "version": "3.9.6"
  }
 },
 "nbformat": 4,
 "nbformat_minor": 2
}
