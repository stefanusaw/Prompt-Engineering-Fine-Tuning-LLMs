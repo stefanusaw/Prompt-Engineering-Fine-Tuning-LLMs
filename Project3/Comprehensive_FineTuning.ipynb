{
 "cells": [
  {
   "cell_type": "code",
   "execution_count": 112,
   "metadata": {
    "vscode": {
     "languageId": "shellscript"
    }
   },
   "outputs": [
    {
     "name": "stderr",
     "output_type": "stream",
     "text": [
      "huggingface/tokenizers: The current process just got forked, after parallelism has already been used. Disabling parallelism to avoid deadlocks...\n",
      "To disable this warning, you can either:\n",
      "\t- Avoid using `tokenizers` before the fork if possible\n",
      "\t- Explicitly set the environment variable TOKENIZERS_PARALLELISM=(true | false)\n"
     ]
    },
    {
     "name": "stdout",
     "output_type": "stream",
     "text": [
      "Collecting torch\n",
      "  Using cached torch-2.2.2-cp39-none-macosx_10_9_x86_64.whl.metadata (25 kB)\n",
      "Requirement already satisfied: tensorflow in /Users/albertwelong/cognizant_genai/.venv/lib/python3.9/site-packages (2.16.2)\n",
      "Requirement already satisfied: transformers in /Users/albertwelong/cognizant_genai/.venv/lib/python3.9/site-packages (4.49.0)\n",
      "Requirement already satisfied: datasets in /Users/albertwelong/cognizant_genai/.venv/lib/python3.9/site-packages (3.3.2)\n",
      "Requirement already satisfied: filelock in /Users/albertwelong/cognizant_genai/.venv/lib/python3.9/site-packages (from torch) (3.17.0)\n",
      "Requirement already satisfied: typing-extensions>=4.8.0 in /Users/albertwelong/cognizant_genai/.venv/lib/python3.9/site-packages (from torch) (4.12.2)\n",
      "Requirement already satisfied: sympy in /Users/albertwelong/cognizant_genai/.venv/lib/python3.9/site-packages (from torch) (1.13.3)\n",
      "Requirement already satisfied: networkx in /Users/albertwelong/cognizant_genai/.venv/lib/python3.9/site-packages (from torch) (3.2.1)\n",
      "Requirement already satisfied: jinja2 in /Users/albertwelong/cognizant_genai/.venv/lib/python3.9/site-packages (from torch) (3.1.5)\n",
      "Requirement already satisfied: fsspec in /Users/albertwelong/cognizant_genai/.venv/lib/python3.9/site-packages (from torch) (2024.12.0)\n",
      "Requirement already satisfied: absl-py>=1.0.0 in /Users/albertwelong/cognizant_genai/.venv/lib/python3.9/site-packages (from tensorflow) (2.1.0)\n",
      "Requirement already satisfied: astunparse>=1.6.0 in /Users/albertwelong/cognizant_genai/.venv/lib/python3.9/site-packages (from tensorflow) (1.6.3)\n",
      "Requirement already satisfied: flatbuffers>=23.5.26 in /Users/albertwelong/cognizant_genai/.venv/lib/python3.9/site-packages (from tensorflow) (25.2.10)\n",
      "Requirement already satisfied: gast!=0.5.0,!=0.5.1,!=0.5.2,>=0.2.1 in /Users/albertwelong/cognizant_genai/.venv/lib/python3.9/site-packages (from tensorflow) (0.6.0)\n",
      "Requirement already satisfied: google-pasta>=0.1.1 in /Users/albertwelong/cognizant_genai/.venv/lib/python3.9/site-packages (from tensorflow) (0.2.0)\n",
      "Requirement already satisfied: h5py>=3.10.0 in /Users/albertwelong/cognizant_genai/.venv/lib/python3.9/site-packages (from tensorflow) (3.13.0)\n",
      "Requirement already satisfied: libclang>=13.0.0 in /Users/albertwelong/cognizant_genai/.venv/lib/python3.9/site-packages (from tensorflow) (18.1.1)\n",
      "Requirement already satisfied: ml-dtypes~=0.3.1 in /Users/albertwelong/cognizant_genai/.venv/lib/python3.9/site-packages (from tensorflow) (0.3.2)\n",
      "Requirement already satisfied: opt-einsum>=2.3.2 in /Users/albertwelong/cognizant_genai/.venv/lib/python3.9/site-packages (from tensorflow) (3.4.0)\n",
      "Requirement already satisfied: packaging in /Users/albertwelong/cognizant_genai/.venv/lib/python3.9/site-packages (from tensorflow) (24.2)\n",
      "Requirement already satisfied: protobuf!=4.21.0,!=4.21.1,!=4.21.2,!=4.21.3,!=4.21.4,!=4.21.5,<5.0.0dev,>=3.20.3 in /Users/albertwelong/cognizant_genai/.venv/lib/python3.9/site-packages (from tensorflow) (4.25.6)\n",
      "Requirement already satisfied: requests<3,>=2.21.0 in /Users/albertwelong/cognizant_genai/.venv/lib/python3.9/site-packages (from tensorflow) (2.32.3)\n",
      "Requirement already satisfied: setuptools in /Users/albertwelong/cognizant_genai/.venv/lib/python3.9/site-packages (from tensorflow) (58.0.4)\n",
      "Requirement already satisfied: six>=1.12.0 in /Users/albertwelong/cognizant_genai/.venv/lib/python3.9/site-packages (from tensorflow) (1.17.0)\n",
      "Requirement already satisfied: termcolor>=1.1.0 in /Users/albertwelong/cognizant_genai/.venv/lib/python3.9/site-packages (from tensorflow) (2.5.0)\n",
      "Requirement already satisfied: wrapt>=1.11.0 in /Users/albertwelong/cognizant_genai/.venv/lib/python3.9/site-packages (from tensorflow) (1.17.2)\n",
      "Requirement already satisfied: grpcio<2.0,>=1.24.3 in /Users/albertwelong/cognizant_genai/.venv/lib/python3.9/site-packages (from tensorflow) (1.70.0)\n",
      "Requirement already satisfied: tensorboard<2.17,>=2.16 in /Users/albertwelong/cognizant_genai/.venv/lib/python3.9/site-packages (from tensorflow) (2.16.2)\n",
      "Requirement already satisfied: keras>=3.0.0 in /Users/albertwelong/cognizant_genai/.venv/lib/python3.9/site-packages (from tensorflow) (3.8.0)\n",
      "Requirement already satisfied: tensorflow-io-gcs-filesystem>=0.23.1 in /Users/albertwelong/cognizant_genai/.venv/lib/python3.9/site-packages (from tensorflow) (0.37.1)\n",
      "Requirement already satisfied: numpy<2.0.0,>=1.23.5 in /Users/albertwelong/cognizant_genai/.venv/lib/python3.9/site-packages (from tensorflow) (1.26.4)\n",
      "Requirement already satisfied: huggingface-hub<1.0,>=0.26.0 in /Users/albertwelong/cognizant_genai/.venv/lib/python3.9/site-packages (from transformers) (0.29.1)\n",
      "Requirement already satisfied: pyyaml>=5.1 in /Users/albertwelong/cognizant_genai/.venv/lib/python3.9/site-packages (from transformers) (6.0.2)\n",
      "Requirement already satisfied: regex!=2019.12.17 in /Users/albertwelong/cognizant_genai/.venv/lib/python3.9/site-packages (from transformers) (2024.11.6)\n",
      "Requirement already satisfied: tokenizers<0.22,>=0.21 in /Users/albertwelong/cognizant_genai/.venv/lib/python3.9/site-packages (from transformers) (0.21.0)\n",
      "Requirement already satisfied: safetensors>=0.4.1 in /Users/albertwelong/cognizant_genai/.venv/lib/python3.9/site-packages (from transformers) (0.5.2)\n",
      "Requirement already satisfied: tqdm>=4.27 in /Users/albertwelong/cognizant_genai/.venv/lib/python3.9/site-packages (from transformers) (4.67.1)\n",
      "Requirement already satisfied: pyarrow>=15.0.0 in /Users/albertwelong/cognizant_genai/.venv/lib/python3.9/site-packages (from datasets) (19.0.1)\n",
      "Requirement already satisfied: dill<0.3.9,>=0.3.0 in /Users/albertwelong/cognizant_genai/.venv/lib/python3.9/site-packages (from datasets) (0.3.8)\n",
      "Requirement already satisfied: pandas in /Users/albertwelong/cognizant_genai/.venv/lib/python3.9/site-packages (from datasets) (2.2.3)\n",
      "Requirement already satisfied: xxhash in /Users/albertwelong/cognizant_genai/.venv/lib/python3.9/site-packages (from datasets) (3.5.0)\n",
      "Requirement already satisfied: multiprocess<0.70.17 in /Users/albertwelong/cognizant_genai/.venv/lib/python3.9/site-packages (from datasets) (0.70.16)\n",
      "Requirement already satisfied: aiohttp in /Users/albertwelong/cognizant_genai/.venv/lib/python3.9/site-packages (from datasets) (3.11.12)\n",
      "Requirement already satisfied: wheel<1.0,>=0.23.0 in /Users/albertwelong/cognizant_genai/.venv/lib/python3.9/site-packages (from astunparse>=1.6.0->tensorflow) (0.45.1)\n",
      "Requirement already satisfied: aiohappyeyeballs>=2.3.0 in /Users/albertwelong/cognizant_genai/.venv/lib/python3.9/site-packages (from aiohttp->datasets) (2.4.6)\n",
      "Requirement already satisfied: aiosignal>=1.1.2 in /Users/albertwelong/cognizant_genai/.venv/lib/python3.9/site-packages (from aiohttp->datasets) (1.3.2)\n",
      "Requirement already satisfied: async-timeout<6.0,>=4.0 in /Users/albertwelong/cognizant_genai/.venv/lib/python3.9/site-packages (from aiohttp->datasets) (5.0.1)\n",
      "Requirement already satisfied: attrs>=17.3.0 in /Users/albertwelong/cognizant_genai/.venv/lib/python3.9/site-packages (from aiohttp->datasets) (25.1.0)\n",
      "Requirement already satisfied: frozenlist>=1.1.1 in /Users/albertwelong/cognizant_genai/.venv/lib/python3.9/site-packages (from aiohttp->datasets) (1.5.0)\n",
      "Requirement already satisfied: multidict<7.0,>=4.5 in /Users/albertwelong/cognizant_genai/.venv/lib/python3.9/site-packages (from aiohttp->datasets) (6.1.0)\n",
      "Requirement already satisfied: propcache>=0.2.0 in /Users/albertwelong/cognizant_genai/.venv/lib/python3.9/site-packages (from aiohttp->datasets) (0.3.0)\n",
      "Requirement already satisfied: yarl<2.0,>=1.17.0 in /Users/albertwelong/cognizant_genai/.venv/lib/python3.9/site-packages (from aiohttp->datasets) (1.18.3)\n",
      "Requirement already satisfied: rich in /Users/albertwelong/cognizant_genai/.venv/lib/python3.9/site-packages (from keras>=3.0.0->tensorflow) (13.9.4)\n",
      "Requirement already satisfied: namex in /Users/albertwelong/cognizant_genai/.venv/lib/python3.9/site-packages (from keras>=3.0.0->tensorflow) (0.0.8)\n",
      "Requirement already satisfied: optree in /Users/albertwelong/cognizant_genai/.venv/lib/python3.9/site-packages (from keras>=3.0.0->tensorflow) (0.14.0)\n",
      "Requirement already satisfied: charset-normalizer<4,>=2 in /Users/albertwelong/cognizant_genai/.venv/lib/python3.9/site-packages (from requests<3,>=2.21.0->tensorflow) (3.4.1)\n",
      "Requirement already satisfied: idna<4,>=2.5 in /Users/albertwelong/cognizant_genai/.venv/lib/python3.9/site-packages (from requests<3,>=2.21.0->tensorflow) (3.10)\n",
      "Requirement already satisfied: urllib3<3,>=1.21.1 in /Users/albertwelong/cognizant_genai/.venv/lib/python3.9/site-packages (from requests<3,>=2.21.0->tensorflow) (2.3.0)\n",
      "Requirement already satisfied: certifi>=2017.4.17 in /Users/albertwelong/cognizant_genai/.venv/lib/python3.9/site-packages (from requests<3,>=2.21.0->tensorflow) (2025.1.31)\n",
      "Requirement already satisfied: markdown>=2.6.8 in /Users/albertwelong/cognizant_genai/.venv/lib/python3.9/site-packages (from tensorboard<2.17,>=2.16->tensorflow) (3.7)\n",
      "Requirement already satisfied: tensorboard-data-server<0.8.0,>=0.7.0 in /Users/albertwelong/cognizant_genai/.venv/lib/python3.9/site-packages (from tensorboard<2.17,>=2.16->tensorflow) (0.7.2)\n",
      "Requirement already satisfied: werkzeug>=1.0.1 in /Users/albertwelong/cognizant_genai/.venv/lib/python3.9/site-packages (from tensorboard<2.17,>=2.16->tensorflow) (3.1.3)\n",
      "Requirement already satisfied: MarkupSafe>=2.0 in /Users/albertwelong/cognizant_genai/.venv/lib/python3.9/site-packages (from jinja2->torch) (2.1.5)\n",
      "Requirement already satisfied: python-dateutil>=2.8.2 in /Users/albertwelong/cognizant_genai/.venv/lib/python3.9/site-packages (from pandas->datasets) (2.9.0.post0)\n",
      "Requirement already satisfied: pytz>=2020.1 in /Users/albertwelong/cognizant_genai/.venv/lib/python3.9/site-packages (from pandas->datasets) (2025.1)\n",
      "Requirement already satisfied: tzdata>=2022.7 in /Users/albertwelong/cognizant_genai/.venv/lib/python3.9/site-packages (from pandas->datasets) (2025.1)\n",
      "Requirement already satisfied: mpmath<1.4,>=1.1.0 in /Users/albertwelong/cognizant_genai/.venv/lib/python3.9/site-packages (from sympy->torch) (1.3.0)\n",
      "Requirement already satisfied: importlib-metadata>=4.4 in /Users/albertwelong/cognizant_genai/.venv/lib/python3.9/site-packages (from markdown>=2.6.8->tensorboard<2.17,>=2.16->tensorflow) (8.6.1)\n",
      "Requirement already satisfied: markdown-it-py>=2.2.0 in /Users/albertwelong/cognizant_genai/.venv/lib/python3.9/site-packages (from rich->keras>=3.0.0->tensorflow) (3.0.0)\n",
      "Requirement already satisfied: pygments<3.0.0,>=2.13.0 in /Users/albertwelong/cognizant_genai/.venv/lib/python3.9/site-packages (from rich->keras>=3.0.0->tensorflow) (2.19.1)\n",
      "Requirement already satisfied: zipp>=3.20 in /Users/albertwelong/cognizant_genai/.venv/lib/python3.9/site-packages (from importlib-metadata>=4.4->markdown>=2.6.8->tensorboard<2.17,>=2.16->tensorflow) (3.21.0)\n",
      "Requirement already satisfied: mdurl~=0.1 in /Users/albertwelong/cognizant_genai/.venv/lib/python3.9/site-packages (from markdown-it-py>=2.2.0->rich->keras>=3.0.0->tensorflow) (0.1.2)\n",
      "Downloading torch-2.2.2-cp39-none-macosx_10_9_x86_64.whl (150.8 MB)\n",
      "\u001b[2K   \u001b[90m━━━━━━━━━━━━━━━━━━━━━━━━━━━━━━━━━━━━━━━━\u001b[0m \u001b[32m150.8/150.8 MB\u001b[0m \u001b[31m59.6 MB/s\u001b[0m eta \u001b[36m0:00:00\u001b[0m00:01\u001b[0m00:01\u001b[0m\n",
      "\u001b[?25hInstalling collected packages: torch\n",
      "Successfully installed torch-2.2.2\n",
      "Note: you may need to restart the kernel to use updated packages.\n"
     ]
    }
   ],
   "source": [
    "pip install torch tensorflow transformers datasets"
   ]
  },
  {
   "cell_type": "code",
   "execution_count": 1,
   "metadata": {},
   "outputs": [
    {
     "name": "stdout",
     "output_type": "stream",
     "text": [
      "False\n"
     ]
    }
   ],
   "source": [
    "import torch\n",
    "print(torch.cuda.is_available())"
   ]
  },
  {
   "cell_type": "code",
   "execution_count": 92,
   "metadata": {},
   "outputs": [
    {
     "name": "stderr",
     "output_type": "stream",
     "text": [
      "Some weights of DistilBertForSequenceClassification were not initialized from the model checkpoint at distilbert-base-uncased and are newly initialized: ['classifier.bias', 'classifier.weight', 'pre_classifier.bias', 'pre_classifier.weight']\n",
      "You should probably TRAIN this model on a down-stream task to be able to use it for predictions and inference.\n"
     ]
    }
   ],
   "source": [
    "from transformers import AutoModelForSequenceClassification, AutoTokenizer\n",
    "\n",
    "model_name = \"distilbert-base-uncased\"\n",
    "model = AutoModelForSequenceClassification.from_pretrained(model_name, num_labels=2)\n",
    "tokenizer = AutoTokenizer.from_pretrained(model_name)"
   ]
  },
  {
   "cell_type": "code",
   "execution_count": 93,
   "metadata": {},
   "outputs": [],
   "source": [
    "import pandas as pd"
   ]
  },
  {
   "cell_type": "code",
   "execution_count": 23,
   "metadata": {},
   "outputs": [
    {
     "name": "stdout",
     "output_type": "stream",
     "text": [
      "(50000, 2)\n"
     ]
    }
   ],
   "source": [
    "imdb_data = pd.read_csv('IMDB Dataset.csv')\n",
    "print(imdb_data.shape)\n",
    "imdb_data.head(10)\n",
    "\n",
    "positive = imdb_data[imdb_data['sentiment'] == \"positive\"]\n",
    "negative = imdb_data[imdb_data['sentiment'] == \"negative\"]\n",
    "\n",
    "positive_sample = positive.sample(n=100, random_state=42)\n",
    "negative_sample = negative.sample(n=100, random_state=42)\n",
    "small_dataset = pd.concat([positive_sample, negative_sample])"
   ]
  },
  {
   "cell_type": "code",
   "execution_count": 24,
   "metadata": {},
   "outputs": [
    {
     "data": {
      "text/html": [
       "<div>\n",
       "<style scoped>\n",
       "    .dataframe tbody tr th:only-of-type {\n",
       "        vertical-align: middle;\n",
       "    }\n",
       "\n",
       "    .dataframe tbody tr th {\n",
       "        vertical-align: top;\n",
       "    }\n",
       "\n",
       "    .dataframe thead th {\n",
       "        text-align: right;\n",
       "    }\n",
       "</style>\n",
       "<table border=\"1\" class=\"dataframe\">\n",
       "  <thead>\n",
       "    <tr style=\"text-align: right;\">\n",
       "      <th></th>\n",
       "      <th>review</th>\n",
       "      <th>sentiment</th>\n",
       "    </tr>\n",
       "  </thead>\n",
       "  <tbody>\n",
       "    <tr>\n",
       "      <th>count</th>\n",
       "      <td>200</td>\n",
       "      <td>200</td>\n",
       "    </tr>\n",
       "    <tr>\n",
       "      <th>unique</th>\n",
       "      <td>200</td>\n",
       "      <td>2</td>\n",
       "    </tr>\n",
       "    <tr>\n",
       "      <th>top</th>\n",
       "      <td>I don't know how or why this film has a meager...</td>\n",
       "      <td>positive</td>\n",
       "    </tr>\n",
       "    <tr>\n",
       "      <th>freq</th>\n",
       "      <td>1</td>\n",
       "      <td>100</td>\n",
       "    </tr>\n",
       "  </tbody>\n",
       "</table>\n",
       "</div>"
      ],
      "text/plain": [
       "                                                   review sentiment\n",
       "count                                                 200       200\n",
       "unique                                                200         2\n",
       "top     I don't know how or why this film has a meager...  positive\n",
       "freq                                                    1       100"
      ]
     },
     "execution_count": 24,
     "metadata": {},
     "output_type": "execute_result"
    }
   ],
   "source": [
    "imdb_data.describe()\n",
    "small_dataset.describe()"
   ]
  },
  {
   "cell_type": "code",
   "execution_count": 25,
   "metadata": {},
   "outputs": [
    {
     "data": {
      "text/plain": [
       "sentiment\n",
       "positive    100\n",
       "negative    100\n",
       "Name: count, dtype: int64"
      ]
     },
     "execution_count": 25,
     "metadata": {},
     "output_type": "execute_result"
    }
   ],
   "source": [
    "small_dataset['sentiment'].value_counts()"
   ]
  },
  {
   "cell_type": "code",
   "execution_count": 32,
   "metadata": {},
   "outputs": [
    {
     "name": "stdout",
     "output_type": "stream",
     "text": [
      "Training set class distribution:\n",
      "sentiment\n",
      "negative    80\n",
      "positive    80\n",
      "Name: count, dtype: int64\n",
      "\n",
      "Test set class distribution:\n",
      "sentiment\n",
      "negative    20\n",
      "positive    20\n",
      "Name: count, dtype: int64\n"
     ]
    }
   ],
   "source": [
    "from sklearn.model_selection import train_test_split\n",
    "\n",
    "X_train, X_test, y_train, y_test = train_test_split(\n",
    "    small_dataset['review'],  # Features (reviews)\n",
    "    small_dataset['sentiment'], # Target (sentiment)\n",
    "    test_size=0.2,             # 80% train, 20% test\n",
    "    random_state=42,           # For reproducibility\n",
    "    stratify=small_dataset['sentiment']  # Ensure balanced sentiment classes\n",
    ")\n",
    "\n",
    "# Check the class distribution in both train and test sets\n",
    "print(\"Training set class distribution:\")\n",
    "print(y_train.value_counts())\n",
    "print(\"\\nTest set class distribution:\")\n",
    "print(y_test.value_counts())\n"
   ]
  },
  {
   "cell_type": "code",
   "execution_count": 94,
   "metadata": {},
   "outputs": [
    {
     "name": "stdout",
     "output_type": "stream",
     "text": [
      "['review', 'sentiment']\n",
      "Training set class distribution:\n",
      "sentiment\n",
      "negative    80\n",
      "positive    80\n",
      "Name: count, dtype: int64\n",
      "\n",
      "Test set class distribution:\n",
      "sentiment\n",
      "negative    20\n",
      "positive    20\n",
      "Name: count, dtype: int64\n"
     ]
    },
    {
     "name": "stderr",
     "output_type": "stream",
     "text": [
      "Map: 100%|██████████| 160/160 [00:00<00:00, 651.34 examples/s]\n",
      "Map: 100%|██████████| 40/40 [00:00<00:00, 487.44 examples/s]\n"
     ]
    }
   ],
   "source": [
    "from datasets import load_dataset, Dataset\n",
    "from transformers import AutoTokenizer, Trainer, TrainingArguments, AutoModelForSequenceClassification\n",
    "import pandas as pd\n",
    "from sklearn.model_selection import train_test_split\n",
    "from datasets import concatenate_datasets\n",
    "\n",
    "\n",
    "# Step 1: Load the IMDB dataset from a local CSV file\n",
    "dataset = load_dataset(\"csv\", data_files={\"train\": \"IMDB Dataset.csv\"})\n",
    "\n",
    "# Step 2: Inspect the dataset structure (check the column names)\n",
    "print(dataset['train'].column_names)\n",
    "\n",
    "# Step 3: Assuming the sentiment column is named 'sentiment' and the review column is 'review',\n",
    "# We filter the dataset to get 100 positive and 100 negative samples\n",
    "\n",
    "positive_samples = dataset['train'].filter(lambda x: x['sentiment'] == 'positive')\n",
    "negative_samples = dataset['train'].filter(lambda x: x['sentiment'] == 'negative')\n",
    "\n",
    "# Shuffle and sample 100 from each class\n",
    "positive_sample = positive_samples.shuffle(seed=42).select([i for i in range(100)])\n",
    "negative_sample = negative_samples.shuffle(seed=42).select([i for i in range(100)])\n",
    "\n",
    "small_dataset = concatenate_datasets([positive_sample, negative_sample])\n",
    "\n",
    "# Step 4: Split the dataset into train and test (80% train, 20% test)\n",
    "train_df, test_df = train_test_split(\n",
    "    small_dataset.to_pandas(), \n",
    "    test_size=0.2, \n",
    "    stratify=small_dataset['sentiment'],  # Stratified split to maintain balance\n",
    "    random_state=42\n",
    ")\n",
    "\n",
    "# Step 5: Check class distribution in the training and test sets\n",
    "print(\"Training set class distribution:\")\n",
    "print(train_df['sentiment'].value_counts())\n",
    "\n",
    "print(\"\\nTest set class distribution:\")\n",
    "print(test_df['sentiment'].value_counts())\n",
    "\n",
    "# Step 6: Preprocess the dataset - Tokenize the data\n",
    "tokenizer = AutoTokenizer.from_pretrained(\"bert-base-uncased\")\n",
    "\n",
    "def preprocess_function(examples):\n",
    "    return tokenizer(examples['review'], truncation=True, padding=True)\n",
    "\n",
    "# Convert the pandas dataframes back to dataset objects\n",
    "train_dataset = Dataset.from_pandas(train_df)\n",
    "test_dataset = Dataset.from_pandas(test_df)\n",
    "\n",
    "# Tokenize the datasets\n",
    "tokenized_train_dataset = train_dataset.map(preprocess_function, batched=True)\n",
    "tokenized_test_dataset = test_dataset.map(preprocess_function, batched=True)\n",
    "\n",
    "# # Step 7: Define training arguments\n",
    "# training_args = TrainingArguments(\n",
    "#     output_dir=\"./results\",\n",
    "#     evaluation_strategy=\"epoch\",\n",
    "#     learning_rate=2e-5,\n",
    "#     per_device_train_batch_size=16,\n",
    "#     num_train_epochs=3,\n",
    "#     weight_decay=0.01,\n",
    "# )\n",
    "\n",
    "# # Load a model for sequence classification (adjust for your specific use case)\n",
    "# model = AutoModelForSequenceClassification.from_pretrained(\"bert-base-uncased\", num_labels=2)\n",
    "\n",
    "# # Step 8: Define Trainer and Train the Model\n",
    "# trainer = Trainer(\n",
    "#     model=model,\n",
    "#     args=training_args,\n",
    "#     train_dataset=tokenized_train_dataset,\n",
    "#     eval_dataset=tokenized_test_dataset,  # Use the test set for evaluation\n",
    "# )"
   ]
  },
  {
   "cell_type": "code",
   "execution_count": 2,
   "metadata": {},
   "outputs": [
    {
     "name": "stderr",
     "output_type": "stream",
     "text": [
      "/Users/albertwelong/cognizant_genai/.venv/lib/python3.9/site-packages/urllib3/__init__.py:35: NotOpenSSLWarning: urllib3 v2 only supports OpenSSL 1.1.1+, currently the 'ssl' module is compiled with 'LibreSSL 2.8.3'. See: https://github.com/urllib3/urllib3/issues/3020\n",
      "  warnings.warn(\n",
      "/Users/albertwelong/cognizant_genai/.venv/lib/python3.9/site-packages/tqdm/auto.py:21: TqdmWarning: IProgress not found. Please update jupyter and ipywidgets. See https://ipywidgets.readthedocs.io/en/stable/user_install.html\n",
      "  from .autonotebook import tqdm as notebook_tqdm\n",
      "2025-03-08 23:36:00.265537: I tensorflow/core/platform/cpu_feature_guard.cc:210] This TensorFlow binary is optimized to use available CPU instructions in performance-critical operations.\n",
      "To enable the following instructions: AVX2 FMA, in other operations, rebuild TensorFlow with the appropriate compiler flags.\n",
      "Some weights of DistilBertForSequenceClassification were not initialized from the model checkpoint at distilbert-base-uncased and are newly initialized: ['classifier.bias', 'classifier.weight', 'pre_classifier.bias', 'pre_classifier.weight']\n",
      "You should probably TRAIN this model on a down-stream task to be able to use it for predictions and inference.\n"
     ]
    },
    {
     "name": "stdout",
     "output_type": "stream",
     "text": [
      "['review', 'sentiment']\n"
     ]
    },
    {
     "name": "stderr",
     "output_type": "stream",
     "text": [
      "Map: 100%|██████████| 160/160 [00:00<00:00, 896.35 examples/s]\n",
      "Map: 100%|██████████| 40/40 [00:00<00:00, 693.24 examples/s]\n",
      "/Users/albertwelong/cognizant_genai/.venv/lib/python3.9/site-packages/transformers/training_args.py:1594: FutureWarning: `evaluation_strategy` is deprecated and will be removed in version 4.46 of 🤗 Transformers. Use `eval_strategy` instead\n",
      "  warnings.warn(\n"
     ]
    },
    {
     "data": {
      "text/html": [
       "\n",
       "    <div>\n",
       "      \n",
       "      <progress value='30' max='30' style='width:300px; height:20px; vertical-align: middle;'></progress>\n",
       "      [30/30 25:40, Epoch 3/3]\n",
       "    </div>\n",
       "    <table border=\"1\" class=\"dataframe\">\n",
       "  <thead>\n",
       " <tr style=\"text-align: left;\">\n",
       "      <th>Epoch</th>\n",
       "      <th>Training Loss</th>\n",
       "      <th>Validation Loss</th>\n",
       "    </tr>\n",
       "  </thead>\n",
       "  <tbody>\n",
       "    <tr>\n",
       "      <td>1</td>\n",
       "      <td>No log</td>\n",
       "      <td>0.687670</td>\n",
       "    </tr>\n",
       "    <tr>\n",
       "      <td>2</td>\n",
       "      <td>No log</td>\n",
       "      <td>0.680560</td>\n",
       "    </tr>\n",
       "    <tr>\n",
       "      <td>3</td>\n",
       "      <td>No log</td>\n",
       "      <td>0.677075</td>\n",
       "    </tr>\n",
       "  </tbody>\n",
       "</table><p>"
      ],
      "text/plain": [
       "<IPython.core.display.HTML object>"
      ]
     },
     "metadata": {},
     "output_type": "display_data"
    },
    {
     "data": {
      "text/plain": [
       "TrainOutput(global_step=30, training_loss=0.6751163482666016, metrics={'train_runtime': 1600.949, 'train_samples_per_second': 0.3, 'train_steps_per_second': 0.019, 'total_flos': 63584351354880.0, 'train_loss': 0.6751163482666016, 'epoch': 3.0})"
      ]
     },
     "execution_count": 2,
     "metadata": {},
     "output_type": "execute_result"
    }
   ],
   "source": [
    "from transformers import AutoModelForSequenceClassification, AutoTokenizer, Trainer, TrainingArguments\n",
    "from datasets import load_dataset, Dataset, concatenate_datasets\n",
    "import pandas as pd\n",
    "from sklearn.model_selection import train_test_split\n",
    "\n",
    "# Load model and tokenizer\n",
    "model_name = \"distilbert-base-uncased\"\n",
    "model = AutoModelForSequenceClassification.from_pretrained(model_name, num_labels=2)\n",
    "tokenizer = AutoTokenizer.from_pretrained(model_name)\n",
    "\n",
    "# Load the IMDB dataset from a local CSV file\n",
    "dataset = load_dataset(\"csv\", data_files={\"train\": \"IMDB Dataset.csv\"})\n",
    "\n",
    "# Inspect the dataset structure (check the column names)\n",
    "print(dataset['train'].column_names)\n",
    "\n",
    "# Filter for positive and negative samples\n",
    "positive_samples = dataset['train'].filter(lambda x: x['sentiment'] == 'positive')\n",
    "negative_samples = dataset['train'].filter(lambda x: x['sentiment'] == 'negative')\n",
    "\n",
    "# Shuffle and sample 100 from each class\n",
    "positive_sample = positive_samples.shuffle(seed=42).select([i for i in range(100)])\n",
    "negative_sample = negative_samples.shuffle(seed=42).select([i for i in range(100)])\n",
    "\n",
    "# Concatenate positive and negative samples\n",
    "small_dataset = concatenate_datasets([positive_sample, negative_sample])\n",
    "\n",
    "# Convert sentiment column to numerical labels (0 for negative, 1 for positive)\n",
    "small_dataset = small_dataset.map(\n",
    "    lambda x: {\"label\": [1 if sentiment == 'positive' else 0 for sentiment in x['sentiment']]}, \n",
    "    batched=True\n",
    ")\n",
    "\n",
    "# Split the dataset into train and test sets (80% train, 20% test)\n",
    "train_df, test_df = train_test_split(\n",
    "    small_dataset.to_pandas(), \n",
    "    test_size=0.2, \n",
    "    stratify=small_dataset['sentiment'],  # Stratified split to maintain balance\n",
    "    random_state=42\n",
    ")\n",
    "\n",
    "# Convert the pandas dataframes back to dataset objects\n",
    "train_dataset = Dataset.from_pandas(train_df)\n",
    "test_dataset = Dataset.from_pandas(test_df)\n",
    "\n",
    "# Tokenize the datasets\n",
    "def preprocess_function(examples):\n",
    "    return tokenizer(examples['review'], truncation=True, padding=True)\n",
    "\n",
    "tokenized_train_dataset = train_dataset.map(preprocess_function, batched=True)\n",
    "tokenized_test_dataset = test_dataset.map(preprocess_function, batched=True)\n",
    "\n",
    "# Define the training arguments\n",
    "training_args = TrainingArguments(\n",
    "    output_dir=\"./results\",\n",
    "    evaluation_strategy=\"epoch\",\n",
    "    learning_rate=2e-5,\n",
    "    per_device_train_batch_size=16,\n",
    "    num_train_epochs=3,\n",
    "    weight_decay=0.01,\n",
    ")\n",
    "\n",
    "# Define Trainer\n",
    "trainer = Trainer(\n",
    "    model=model,\n",
    "    args=training_args,\n",
    "    train_dataset=tokenized_train_dataset,\n",
    "    eval_dataset=tokenized_test_dataset,\n",
    ")\n",
    "\n",
    "# Start training\n",
    "trainer.train()\n"
   ]
  },
  {
   "cell_type": "code",
   "execution_count": 7,
   "metadata": {},
   "outputs": [
    {
     "name": "stderr",
     "output_type": "stream",
     "text": [
      "Some weights of DistilBertForSequenceClassification were not initialized from the model checkpoint at distilbert-base-uncased and are newly initialized: ['classifier.bias', 'classifier.weight', 'pre_classifier.bias', 'pre_classifier.weight']\n",
      "You should probably TRAIN this model on a down-stream task to be able to use it for predictions and inference.\n"
     ]
    },
    {
     "name": "stdout",
     "output_type": "stream",
     "text": [
      "['review', 'sentiment']\n"
     ]
    },
    {
     "name": "stderr",
     "output_type": "stream",
     "text": [
      "Map: 100%|██████████| 200/200 [00:00<00:00, 1017.47 examples/s]\n",
      "Map: 100%|██████████| 160/160 [00:00<00:00, 305.21 examples/s]\n",
      "Map: 100%|██████████| 40/40 [00:00<00:00, 342.90 examples/s]\n",
      "/Users/albertwelong/cognizant_genai/.venv/lib/python3.9/site-packages/transformers/training_args.py:1594: FutureWarning: `evaluation_strategy` is deprecated and will be removed in version 4.46 of 🤗 Transformers. Use `eval_strategy` instead\n",
      "  warnings.warn(\n"
     ]
    },
    {
     "data": {
      "text/html": [
       "\n",
       "    <div>\n",
       "      \n",
       "      <progress value='30' max='30' style='width:300px; height:20px; vertical-align: middle;'></progress>\n",
       "      [30/30 18:58, Epoch 3/3]\n",
       "    </div>\n",
       "    <table border=\"1\" class=\"dataframe\">\n",
       "  <thead>\n",
       " <tr style=\"text-align: left;\">\n",
       "      <th>Epoch</th>\n",
       "      <th>Training Loss</th>\n",
       "      <th>Validation Loss</th>\n",
       "    </tr>\n",
       "  </thead>\n",
       "  <tbody>\n",
       "    <tr>\n",
       "      <td>1</td>\n",
       "      <td>No log</td>\n",
       "      <td>0.683228</td>\n",
       "    </tr>\n",
       "    <tr>\n",
       "      <td>2</td>\n",
       "      <td>No log</td>\n",
       "      <td>0.673575</td>\n",
       "    </tr>\n",
       "    <tr>\n",
       "      <td>3</td>\n",
       "      <td>No log</td>\n",
       "      <td>0.670827</td>\n",
       "    </tr>\n",
       "  </tbody>\n",
       "</table><p>"
      ],
      "text/plain": [
       "<IPython.core.display.HTML object>"
      ]
     },
     "metadata": {},
     "output_type": "display_data"
    },
    {
     "data": {
      "text/plain": [
       "TrainOutput(global_step=30, training_loss=0.6682209650675456, metrics={'train_runtime': 1185.0091, 'train_samples_per_second': 0.405, 'train_steps_per_second': 0.025, 'total_flos': 63584351354880.0, 'train_loss': 0.6682209650675456, 'epoch': 3.0})"
      ]
     },
     "execution_count": 7,
     "metadata": {},
     "output_type": "execute_result"
    }
   ],
   "source": [
    "from transformers import AutoModelForSequenceClassification, AutoTokenizer, Trainer, TrainingArguments\n",
    "from datasets import load_dataset, Dataset, concatenate_datasets\n",
    "from sklearn.model_selection import train_test_split\n",
    "\n",
    "# Load model and tokenizer\n",
    "model_name = \"distilbert-base-uncased\"\n",
    "model = AutoModelForSequenceClassification.from_pretrained(model_name, num_labels=2)\n",
    "tokenizer = AutoTokenizer.from_pretrained(model_name)\n",
    "\n",
    "# Load the IMDB dataset from a local CSV file\n",
    "dataset = load_dataset(\"csv\", data_files={\"train\": \"IMDB Dataset.csv\"})\n",
    "\n",
    "# Inspect the dataset structure (check the column names)\n",
    "print(dataset['train'].column_names)\n",
    "\n",
    "# Filter for positive and negative samples\n",
    "positive_samples = dataset['train'].filter(lambda x: x['sentiment'] == 'positive')\n",
    "negative_samples = dataset['train'].filter(lambda x: x['sentiment'] == 'negative')\n",
    "\n",
    "# Shuffle and sample 100 from each class\n",
    "positive_sample = positive_samples.shuffle(seed=42).select([i for i in range(100)])\n",
    "negative_sample = negative_samples.shuffle(seed=42).select([i for i in range(100)])\n",
    "\n",
    "# Concatenate positive and negative samples\n",
    "small_dataset = concatenate_datasets([positive_sample, negative_sample])\n",
    "\n",
    "# Convert sentiment column to numerical labels (0 for negative, 1 for positive)\n",
    "def sentiment_to_label(example):\n",
    "    example['label'] = 1 if example['sentiment'] == 'positive' else 0\n",
    "    return example\n",
    "\n",
    "small_dataset = small_dataset.map(sentiment_to_label)\n",
    "\n",
    "# Split the dataset into train and test sets (80% train, 20% test)\n",
    "train_df, test_df = train_test_split(\n",
    "    small_dataset.to_pandas(), \n",
    "    test_size=0.2, \n",
    "    stratify=small_dataset['label'],  # Stratified split to maintain balance\n",
    "    random_state=42\n",
    ")\n",
    "\n",
    "# Convert the pandas dataframes back to dataset objects\n",
    "train_dataset = Dataset.from_pandas(train_df)\n",
    "test_dataset = Dataset.from_pandas(test_df)\n",
    "\n",
    "# Tokenize the datasets\n",
    "def preprocess_function(examples):\n",
    "    return tokenizer(examples['review'], truncation=True, padding=True)\n",
    "\n",
    "tokenized_train_dataset = train_dataset.map(preprocess_function, batched=True)\n",
    "tokenized_test_dataset = test_dataset.map(preprocess_function, batched=True)\n",
    "\n",
    "# Define the training arguments\n",
    "training_args = TrainingArguments(\n",
    "    output_dir=\"./results\",\n",
    "    evaluation_strategy=\"epoch\",\n",
    "    learning_rate=2e-5,\n",
    "    per_device_train_batch_size=16,\n",
    "    num_train_epochs=3,\n",
    "    weight_decay=0.01,\n",
    ")\n",
    "\n",
    "# Define Trainer\n",
    "trainer = Trainer(\n",
    "    model=model,\n",
    "    args=training_args,\n",
    "    train_dataset=tokenized_train_dataset,\n",
    "    eval_dataset=tokenized_test_dataset,\n",
    ")\n",
    "\n",
    "# Start training\n",
    "trainer.train()\n"
   ]
  },
  {
   "cell_type": "code",
   "execution_count": 3,
   "metadata": {},
   "outputs": [
    {
     "data": {
      "text/plain": [
       "('./fine_tuned_model/tokenizer_config.json',\n",
       " './fine_tuned_model/special_tokens_map.json',\n",
       " './fine_tuned_model/vocab.txt',\n",
       " './fine_tuned_model/added_tokens.json',\n",
       " './fine_tuned_model/tokenizer.json')"
      ]
     },
     "execution_count": 3,
     "metadata": {},
     "output_type": "execute_result"
    }
   ],
   "source": [
    "model.save_pretrained(\"./fine_tuned_model\")\n",
    "tokenizer.save_pretrained(\"./fine_tuned_model\")"
   ]
  },
  {
   "cell_type": "code",
   "execution_count": 4,
   "metadata": {},
   "outputs": [
    {
     "data": {
      "text/html": [],
      "text/plain": [
       "<IPython.core.display.HTML object>"
      ]
     },
     "metadata": {},
     "output_type": "display_data"
    },
    {
     "name": "stdout",
     "output_type": "stream",
     "text": [
      "{'eval_loss': 0.6770753860473633, 'eval_runtime': 26.5213, 'eval_samples_per_second': 1.508, 'eval_steps_per_second': 0.189, 'epoch': 3.0}\n"
     ]
    }
   ],
   "source": [
    "results = trainer.evaluate()\n",
    "print(results)"
   ]
  },
  {
   "cell_type": "code",
   "execution_count": 8,
   "metadata": {},
   "outputs": [
    {
     "data": {
      "text/html": [],
      "text/plain": [
       "<IPython.core.display.HTML object>"
      ]
     },
     "metadata": {},
     "output_type": "display_data"
    },
    {
     "name": "stdout",
     "output_type": "stream",
     "text": [
      "{'eval_loss': 0.6708268523216248, 'eval_runtime': 21.6157, 'eval_samples_per_second': 1.851, 'eval_steps_per_second': 0.231, 'epoch': 3.0}\n"
     ]
    }
   ],
   "source": [
    "results = trainer.evaluate()\n",
    "print(results)"
   ]
  },
  {
   "cell_type": "code",
   "execution_count": 6,
   "metadata": {},
   "outputs": [
    {
     "name": "stdout",
     "output_type": "stream",
     "text": [
      "              precision    recall  f1-score   support\n",
      "\n",
      "           0       0.58      0.90      0.71        20\n",
      "           1       0.78      0.35      0.48        20\n",
      "\n",
      "    accuracy                           0.62        40\n",
      "   macro avg       0.68      0.62      0.59        40\n",
      "weighted avg       0.68      0.62      0.59        40\n",
      "\n"
     ]
    }
   ],
   "source": [
    "from sklearn.metrics import classification_report\n",
    "predictions = trainer.predict(tokenized_test_dataset)\n",
    "y_pred = predictions.predictions.argmax(axis=1)\n",
    "y_true = tokenized_test_dataset[\"label\"]\n",
    "print(classification_report(y_true, y_pred))"
   ]
  },
  {
   "cell_type": "code",
   "execution_count": 9,
   "metadata": {},
   "outputs": [
    {
     "name": "stdout",
     "output_type": "stream",
     "text": [
      "              precision    recall  f1-score   support\n",
      "\n",
      "           0       0.61      0.95      0.75        20\n",
      "           1       0.89      0.40      0.55        20\n",
      "\n",
      "    accuracy                           0.68        40\n",
      "   macro avg       0.75      0.68      0.65        40\n",
      "weighted avg       0.75      0.68      0.65        40\n",
      "\n"
     ]
    }
   ],
   "source": [
    "from sklearn.metrics import classification_report\n",
    "predictions = trainer.predict(tokenized_test_dataset)\n",
    "y_pred = predictions.predictions.argmax(axis=1)\n",
    "y_true = tokenized_test_dataset[\"label\"]\n",
    "print(classification_report(y_true, y_pred))"
   ]
  },
  {
   "cell_type": "code",
   "execution_count": 10,
   "metadata": {},
   "outputs": [
    {
     "data": {
      "text/html": [],
      "text/plain": [
       "<IPython.core.display.HTML object>"
      ]
     },
     "metadata": {},
     "output_type": "display_data"
    },
    {
     "name": "stdout",
     "output_type": "stream",
     "text": [
      "              precision    recall  f1-score   support\n",
      "\n",
      "           0       0.61      0.95      0.75        20\n",
      "           1       0.89      0.40      0.55        20\n",
      "\n",
      "    accuracy                           0.68        40\n",
      "   macro avg       0.75      0.68      0.65        40\n",
      "weighted avg       0.75      0.68      0.65        40\n",
      "\n"
     ]
    }
   ],
   "source": [
    "from sklearn.metrics import classification_report\n",
    "predictions = trainer.predict(tokenized_test_dataset)\n",
    "y_pred = predictions.predictions.argmax(axis=1)\n",
    "y_true = tokenized_test_dataset[\"label\"]\n",
    "print(classification_report(y_true, y_pred))"
   ]
  }
 ],
 "metadata": {
  "kernelspec": {
   "display_name": ".venv",
   "language": "python",
   "name": "python3"
  },
  "language_info": {
   "codemirror_mode": {
    "name": "ipython",
    "version": 3
   },
   "file_extension": ".py",
   "mimetype": "text/x-python",
   "name": "python",
   "nbconvert_exporter": "python",
   "pygments_lexer": "ipython3",
   "version": "3.9.6"
  }
 },
 "nbformat": 4,
 "nbformat_minor": 2
}
